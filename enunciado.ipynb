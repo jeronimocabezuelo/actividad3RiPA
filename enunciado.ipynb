{
  "nbformat": 4,
  "nbformat_minor": 0,
  "metadata": {
    "colab": {
      "name": "Actividad 2 - EL - Laboratorio en STRIPS/PDDL.ipynb",
      "provenance": []
    },
    "kernelspec": {
      "name": "python3",
      "display_name": "Python 3"
    }
  },
  "cells": [
    {
      "cell_type": "markdown",
      "metadata": {
        "id": "OZPZKqwCPRK_"
      },
      "source": [
        "# Actividad 2 - Laboratorio en STRIPS/PDDL"
      ]
    },
    {
      "cell_type": "markdown",
      "metadata": {
        "id": "oc1ZkAuxPIVu"
      },
      "source": [
        "## Objetivos de la actividad\n",
        "\n",
        "Con esta actividad vas a incentivar tu proceso investigativo y conseguiras utilizar los planificadores del estado del arte para solucionar un problema en STRIPS/PDDL.\n",
        "\n",
        "## Descripción de la actividad\n",
        "\n",
        "Expresa el siguiente escenario en PDDL:\n",
        " \n",
        "En una ciudad existen cuatro localizaciones, un hospital, una ambulancia, y dos enfermos. Tal como indica la siguiente figura (situación inicial):\n",
        "\n",
        "![texto alternativo](https://drive.google.com/uc?export=view&id=1X4LC8zbHzrMTBlt-izYIqcUU6LkHAMm_)\n",
        "\n",
        "La localización L1 está conectada con L2, L2 está conectada con L4, y L4 está conectada con L3. Todas en ambas direcciones. La ambulancia y el hospital se encuentran en la localización L1. Y hay un paciente en la localización L3 y otro en la localización L4. \n",
        "\n",
        "El objetivo es trasladar los pacientes al hospital. \n",
        "\n",
        "Las acciones que se pueden realizar son:\n",
        "\n",
        "* Conducir la ambulancia de una posición a otra.\n",
        "*\tSubir un paciente a la ambulancia.\n",
        "*\tBajar a un paciente en una localización.\n",
        "\n",
        "Se deberá modelar en PDDL (dominio.pddl y problema.pddl) el escenario que se plantea en la situación inicial y resolver el problema con 4 planificadores del estado del arte. \n",
        "\n",
        "\n",
        "\n",
        "> El estudiante debe buscar y configurar por su cuenta los planificadores.\n",
        "\n",
        "> En esta actividad dejamos dos planificadores que pueden usar: LPG-TD https://lpg.unibs.it/lpg/download-lpg-td.html (windows, linux), y FF https://fai.cs.uni-saarland.de/hoffmann/ff/FF-v2.3.tgz (Linux).\n",
        "\n",
        "\n",
        "\n",
        "\n",
        "\n",
        "Las soluciones ofrecidas por los planificadores se deben comparar, indicando cuáles han dado soluciones optimas y en un menor tiempo de ejecución.\n",
        "\n",
        "Adicionalmente, se deben modelar dos situaciones (dos problemas) diferentes a la planteada en esta actividad (por ejemplo, cambiar las conexiones entre las localizaciones, agregar o eliminar pacientes, colocar otra ambulancia, etc). Y se deben resolver los 2 problemas con el mejor planificador de los 4 seleccionados. \n",
        "\n",
        "## Documentos a entregar:\n",
        "\n",
        "*\tCódigos fuente de los ficheros (dominio.pddl y problema.pddl)\n",
        "*\tMemoria explicativa en Word o PDF de no más de 20 páginas en la que se incluya:\n",
        "  *\tInforme detallado de lo presentado, y de su funcionamiento.\n",
        "  *\tPlan o planes que resuelven el escenario.\n",
        "  *\tCapturas de pantalla de la salida de la ejecución de los planificadores \n",
        "  *\tComparación de los planificadores utilizados\n",
        "  *\tResultados de las dos situaciones adicionales\n",
        "  *\tIncluir las dificultades encontradas.\n",
        "  *\tReferencias con Normas APA. (se penaliza si no tienen Normas APA)\n",
        " \n",
        "\n",
        "##Aspectos a tener en cuenta:\n",
        "\n",
        "*\tLa actividad es Individual. Aunque durante la sesión de laboratorio la desarrollamos en grupos. \n",
        "*\tEl código PDDL debe ser de la autoría del estudiante.\n",
        "*\tCualquier página, libro, u otro material consultado debe ser referenciado con Normas APA. Sino se referencia se considera como plagio, y la nota irá acorde.\n",
        "*\tCualquier pregunta o duda pueden dejarla por el foro."
      ]
    }
  ]
}